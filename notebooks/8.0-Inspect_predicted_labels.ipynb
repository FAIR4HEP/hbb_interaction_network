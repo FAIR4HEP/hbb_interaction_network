{
 "cells": [
  {
   "cell_type": "code",
   "execution_count": 1,
   "id": "9fcc5c49",
   "metadata": {},
   "outputs": [],
   "source": [
    "import matplotlib.pyplot as plt\n",
    "import mplhep as hep\n",
    "import numpy as np\n",
    "from sklearn.metrics import auc\n",
    "\n",
    "plt.style.use(hep.style.ROOT)"
   ]
  },
  {
   "cell_type": "code",
   "execution_count": 2,
   "id": "394376be",
   "metadata": {},
   "outputs": [],
   "source": [
    "pred = np.load(\n",
    "    f\"/ssl-jet-vol/hbb_interaction_network/models/model_predictions/max_pt_inf/gnn_min_pt_psv_best_pred_max_pt_inf.npy\"\n",
    ")\n",
    "labels = np.load(\n",
    "    f\"/ssl-jet-vol/hbb_interaction_network/models/model_predictions/max_pt_inf/gnn_min_pt_psv_best_true_labels_max_pt_inf.npy\"\n",
    ")"
   ]
  },
  {
   "cell_type": "code",
   "execution_count": 3,
   "id": "ba8013af",
   "metadata": {},
   "outputs": [
    {
     "name": "stdout",
     "output_type": "stream",
     "text": [
      "truth: [0. 1.], pred: [0.06089022 0.93910986]\n",
      "truth: [1. 0.], pred: [0.30102164 0.6989783 ]\n",
      "truth: [0. 1.], pred: [0.00452383 0.9954762 ]\n",
      "truth: [1. 0.], pred: [9.9981588e-01 1.8420159e-04]\n",
      "truth: [1. 0.], pred: [0.42899296 0.571007  ]\n",
      "truth: [1. 0.], pred: [0.19130343 0.80869657]\n",
      "truth: [1. 0.], pred: [0.19275874 0.80724126]\n",
      "truth: [1. 0.], pred: [0.33679822 0.66320175]\n",
      "truth: [1. 0.], pred: [0.8796165  0.12038349]\n",
      "truth: [1. 0.], pred: [0.22401513 0.77598494]\n",
      "truth: [0. 1.], pred: [0.01756788 0.9824322 ]\n",
      "truth: [0. 1.], pred: [0.00192602 0.99807394]\n",
      "truth: [1. 0.], pred: [0.68963516 0.31036487]\n",
      "truth: [1. 0.], pred: [0.01105844 0.9889416 ]\n",
      "truth: [1. 0.], pred: [0.02400328 0.97599673]\n",
      "truth: [0. 1.], pred: [0.02802606 0.9719739 ]\n",
      "truth: [1. 0.], pred: [0.4081102 0.5918898]\n",
      "truth: [1. 0.], pred: [0.06050733 0.9394927 ]\n",
      "truth: [0. 0.], pred: [0.02510533 0.9748947 ]\n",
      "truth: [0. 1.], pred: [0.00676292 0.9932371 ]\n"
     ]
    }
   ],
   "source": [
    "for i in range(20):\n",
    "    print(f\"truth: {labels[i]}, pred: {pred[i]}\")"
   ]
  },
  {
   "cell_type": "code",
   "execution_count": 4,
   "id": "5294b0bd",
   "metadata": {},
   "outputs": [],
   "source": [
    "labels_batch_0 = np.load(f\"/ssl-jet-vol/hbb_interaction_network/data/processed/max_pT_1500/train/train_0_truth.npy\")"
   ]
  },
  {
   "cell_type": "code",
   "execution_count": 5,
   "id": "fc0e8301",
   "metadata": {},
   "outputs": [
    {
     "name": "stdout",
     "output_type": "stream",
     "text": [
      "[1. 0.]\n",
      "[1. 0.]\n",
      "[1. 0.]\n",
      "[1. 0.]\n",
      "[1. 0.]\n",
      "[1. 0.]\n",
      "[1. 0.]\n",
      "[1. 0.]\n",
      "[1. 0.]\n",
      "[1. 0.]\n",
      "[1. 0.]\n",
      "[1. 0.]\n",
      "[1. 0.]\n",
      "[1. 0.]\n",
      "[1. 0.]\n",
      "[1. 0.]\n",
      "[1. 0.]\n",
      "[1. 0.]\n",
      "[1. 0.]\n",
      "[0. 1.]\n"
     ]
    }
   ],
   "source": [
    "for i in range(20):\n",
    "    print(labels_batch_0[i])"
   ]
  },
  {
   "cell_type": "code",
   "execution_count": null,
   "id": "f37b09a9",
   "metadata": {},
   "outputs": [],
   "source": []
  }
 ],
 "metadata": {
  "kernelspec": {
   "display_name": "Python 3 (ipykernel)",
   "language": "python",
   "name": "python3"
  },
  "language_info": {
   "codemirror_mode": {
    "name": "ipython",
    "version": 3
   },
   "file_extension": ".py",
   "mimetype": "text/x-python",
   "name": "python",
   "nbconvert_exporter": "python",
   "pygments_lexer": "ipython3",
   "version": "3.10.6"
  }
 },
 "nbformat": 4,
 "nbformat_minor": 5
}
